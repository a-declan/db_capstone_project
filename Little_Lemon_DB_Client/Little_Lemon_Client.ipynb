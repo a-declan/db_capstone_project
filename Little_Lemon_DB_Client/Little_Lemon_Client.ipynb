{
 "cells": [
  {
   "cell_type": "markdown",
   "id": "9f2853dc-a19d-45b1-a122-607e6aea3a7c",
   "metadata": {},
   "source": [
    "#### Creating the database client for Little Lemon\n",
    "\n",
    "##### To create the database client for little lemon database, first install the mysql-connector-python API to enable functional interactions between the database and python. \n",
    "\n",
    "##### Upon installation, import the connector and instantiante a connection and cursor object."
   ]
  },
  {
   "cell_type": "code",
   "execution_count": 13,
   "id": "c8a041f0-7f5b-44e6-abfa-0d0142f7d23b",
   "metadata": {},
   "outputs": [
    {
     "name": "stdout",
     "output_type": "stream",
     "text": [
      "Requirement already satisfied: mysql-connector-python in c:\\users\\declan.ac\\appdata\\local\\programs\\python\\python311\\lib\\site-packages (8.1.0)\n",
      "Requirement already satisfied: protobuf<=4.21.12,>=4.21.1 in c:\\users\\declan.ac\\appdata\\local\\programs\\python\\python311\\lib\\site-packages (from mysql-connector-python) (4.21.12)\n"
     ]
    },
    {
     "name": "stderr",
     "output_type": "stream",
     "text": [
      "\n",
      "[notice] A new release of pip is available: 23.2.1 -> 23.3.2\n",
      "[notice] To update, run: python.exe -m pip install --upgrade pip\n"
     ]
    }
   ],
   "source": [
    "!pip install mysql-connector-python"
   ]
  },
  {
   "cell_type": "code",
   "execution_count": 14,
   "id": "68d1321c-b933-4c83-8817-7530a9e10f1e",
   "metadata": {},
   "outputs": [],
   "source": [
    "import mysql.connector as connector"
   ]
  },
  {
   "cell_type": "code",
   "execution_count": 15,
   "id": "6031057f-5176-4e1f-a9d7-df4ef154d5a6",
   "metadata": {},
   "outputs": [],
   "source": [
    "connection = connector.connect(user=\"meta\", password=\"HeyBoss001!\", db=\"littlelemondb\")"
   ]
  },
  {
   "cell_type": "code",
   "execution_count": 16,
   "id": "8a0eeaac-4a3b-402c-a373-33e8dc96469e",
   "metadata": {},
   "outputs": [],
   "source": [
    "cursor = connection.cursor()"
   ]
  },
  {
   "cell_type": "markdown",
   "id": "3e3f7959-5162-48ed-8e76-c6fa4afb551a",
   "metadata": {},
   "source": [
    "#### Showing all the tables within the database"
   ]
  },
  {
   "cell_type": "code",
   "execution_count": 34,
   "id": "e5c7f462-7a83-436b-9ad5-cb6b3c0a202b",
   "metadata": {},
   "outputs": [],
   "source": [
    "show_tables_query = \"\"\"SHOW TABLES;\"\"\"\n",
    "cursor.execute(show_tables_query)"
   ]
  },
  {
   "cell_type": "code",
   "execution_count": 35,
   "id": "4aed2ad5-1b3b-4f1f-b566-66a07537adc5",
   "metadata": {},
   "outputs": [
    {
     "name": "stdout",
     "output_type": "stream",
     "text": [
      "('addresses',)\n",
      "('bookings',)\n",
      "('customers',)\n",
      "('drinks',)\n",
      "('employees',)\n",
      "('menu',)\n",
      "('menuitems',)\n",
      "('order_delivery',)\n",
      "('order_qty_above_1',)\n",
      "('orders',)\n"
     ]
    }
   ],
   "source": [
    "results = cursor.fetchall()\n",
    "for table in results:\n",
    "    print(table)"
   ]
  },
  {
   "cell_type": "markdown",
   "id": "df964887-c490-4341-911f-6d1daca2b974",
   "metadata": {},
   "source": [
    "#### Creating the search query for customers with orders above $60\n",
    "\n",
    "##### Retrieve all the relevant customer details (names and contacts) as well as the bill amount, implementing the appropriate table joins as shown below:"
   ]
  },
  {
   "cell_type": "code",
   "execution_count": 37,
   "id": "dddba82b-2569-4d7a-b4f2-d9ff79aa07fe",
   "metadata": {},
   "outputs": [
    {
     "name": "stdout",
     "output_type": "stream",
     "text": [
      "('Ndu Okeke', '09044232345', 'nduokeke@outlook.com', Decimal('86'))\n"
     ]
    }
   ],
   "source": [
    "customers_with_orders_above_60 = \"\"\"\n",
    "SELECT CONCAT(c.First_name, \" \", c.Last_Name) AS Full_Name, \n",
    "    c.Contact, c.Email, o.TotalCost AS BillAmount\n",
    "FROM Customers AS c\n",
    "    INNER JOIN Bookings AS B\n",
    "        ON c.CustomerID = b.CustomerID\n",
    "    INNER JOIN Orders AS o\n",
    "    ON b.BookingID = o.BookingID\n",
    "WHERE o.TotalCost > 60;\n",
    "\"\"\"\n",
    "# execute the query\n",
    "cursor.execute(customers_with_orders_above_60)\n",
    "\n",
    "# retrieve the results from the cursor\n",
    "results = cursor.fetchall()\n",
    "for customer in results:\n",
    "    print(customer)"
   ]
  },
  {
   "cell_type": "code",
   "execution_count": null,
   "id": "f528af3f-8912-4a2e-a8c5-97287409e181",
   "metadata": {},
   "outputs": [],
   "source": []
  }
 ],
 "metadata": {
  "kernelspec": {
   "display_name": "Python 3 (ipykernel)",
   "language": "python",
   "name": "python3"
  },
  "language_info": {
   "codemirror_mode": {
    "name": "ipython",
    "version": 3
   },
   "file_extension": ".py",
   "mimetype": "text/x-python",
   "name": "python",
   "nbconvert_exporter": "python",
   "pygments_lexer": "ipython3",
   "version": "3.11.4"
  }
 },
 "nbformat": 4,
 "nbformat_minor": 5
}
