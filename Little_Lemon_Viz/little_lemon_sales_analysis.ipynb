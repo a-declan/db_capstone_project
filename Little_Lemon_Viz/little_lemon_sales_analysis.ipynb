Customer Sales
This visual shows the sum of sales by customer over the period of 2019 - 2023, for order amounts greater than $70.
image.png

Little Lemon's Profit Chart
This visual shows the profits earned by the business on a YOY basis, filtered from 2019 - 2022.
image.png

Little Lemon Sales Bubble Chart
This visual shows the restaurants sales by customers in colourful bubbles, and highlights the business' profit per customer.
image.png

Little Lemon Cuisine Sales & Profits
The restaurant offers three major cuisines: Italian, Greek, and Turkish. This visual shows the profits earned by the business over 2020 - 2022, split by cuisine.
image.png

Sales Interactive Dashboard
The dashboard comprises of the sales bar and bubble chart, enabled to cross-filter and highlight the restaurant's customers based on selected bars.
image.png

 
